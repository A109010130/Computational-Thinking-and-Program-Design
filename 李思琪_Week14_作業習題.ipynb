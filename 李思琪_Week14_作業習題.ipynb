{
  "nbformat": 4,
  "nbformat_minor": 0,
  "metadata": {
    "kernelspec": {
      "display_name": "Python 3",
      "language": "python",
      "name": "python3"
    },
    "language_info": {
      "codemirror_mode": {
        "name": "ipython",
        "version": 3
      },
      "file_extension": ".py",
      "mimetype": "text/x-python",
      "name": "python",
      "nbconvert_exporter": "python",
      "pygments_lexer": "ipython3",
      "version": "3.8.5"
    },
    "colab": {
      "name": "李思琪 - Week14- 作業習題.ipynb",
      "provenance": [],
      "collapsed_sections": [],
      "include_colab_link": true
    }
  },
  "cells": [
    {
      "cell_type": "markdown",
      "metadata": {
        "id": "view-in-github",
        "colab_type": "text"
      },
      "source": [
        "<a href=\"https://colab.research.google.com/github/A109010130/Computational-Thinking-and-Program-Design/blob/main/%E6%9D%8E%E6%80%9D%E7%90%AA_Week14_%E4%BD%9C%E6%A5%AD%E7%BF%92%E9%A1%8C.ipynb\" target=\"_parent\"><img src=\"https://colab.research.google.com/assets/colab-badge.svg\" alt=\"Open In Colab\"/></a>"
      ]
    },
    {
      "cell_type": "markdown",
      "metadata": {
        "id": "z-SHR6mTFDte"
      },
      "source": [
        "**隨堂練習1： BMI 計算**\n",
        "\n",
        "請寫一個程式讓使用者輸入身高與體重，顯示BMI 值與肥胖程度。 BMI 等於體重（KG）除以身高（M）的平方，而BMI 與肥胖分類標準如下：\n",
        "\n",
        "若BMI 值小於18，則顯示「體重過輕」，否則若BMI 值小於24，則顯示「體重正常」，若BMI 值小於27，則顯示「體重過重」，否則顯示「體重肥胖」。"
      ]
    },
    {
      "cell_type": "code",
      "metadata": {
        "colab": {
          "base_uri": "https://localhost:8080/"
        },
        "id": "GGSEwkxgFDth",
        "outputId": "a3391fdc-016e-4363-f9ae-cdc786ee3492"
      },
      "source": [
        "w=float(input(\"Please enter your weight(kg):\"))\n",
        "h=float(input(\"Please enter your hight(m):\"))\n",
        "BMI=w/h**2\n",
        "BMI1=round(BMI,1)\n",
        "print(BMI1)\n",
        "if BMI1<=18:\n",
        "    print(\"體重過輕\")\n",
        "elif BMI1<=24:\n",
        "    print(\"體重正常\")\n",
        "elif BMI1<27:\n",
        "    print(\"體重過重\")\n",
        "else:\n",
        "    print(\"體重肥胖\")"
      ],
      "execution_count": 23,
      "outputs": [
        {
          "output_type": "stream",
          "text": [
            "Please enter your weight(kg):50\n",
            "Please enter your hight(m):1.64\n",
            "18.6\n",
            "體重正常\n"
          ],
          "name": "stdout"
        }
      ]
    },
    {
      "cell_type": "markdown",
      "metadata": {
        "id": "7hjxSzewFDth"
      },
      "source": [
        "**隨堂練習2： 三一律(單向選擇、雙向與巢狀選擇、多向選擇)**\n",
        "\n",
        "請輸入一個數，然後判斷這個數是正數、是負數或者是零。"
      ]
    },
    {
      "cell_type": "code",
      "metadata": {
        "colab": {
          "base_uri": "https://localhost:8080/"
        },
        "id": "guovwg7oMU9m",
        "outputId": "10841f58-a453-4b71-c2c2-506e20273052"
      },
      "source": [
        "num=int(input(\"請輸入一個數:\"))\n",
        "if num==0:\n",
        "  print(\"該數為零\")\n",
        "elif num>0:\n",
        "  print(\"該數為正數\")\n",
        "elif num<0:\n",
        "  print(\"該數為負數\")"
      ],
      "execution_count": 30,
      "outputs": [
        {
          "output_type": "stream",
          "text": [
            "請輸入一個數:-5\n",
            "該數為負數\n"
          ],
          "name": "stdout"
        }
      ]
    },
    {
      "cell_type": "markdown",
      "metadata": {
        "id": "bUqDU_m6FDti"
      },
      "source": [
        "**練習5   體溫與發燒**\n",
        "\n",
        "設計程式根據體溫判斷是否發燒，由使用者輸入體溫，程式判斷是否發燒，假設體溫小於36度，顯示「體溫過低」，體溫大於等於36度小於38度，顯示「體溫正常」，否則若體溫大於等於38度小於39度，顯示「體溫有點燒」，否則體溫大於等於39度，顯示「體溫很燒」。\n",
        "\n",
        "輸入體溫「36.5」，輸出為「體溫正常」。\n",
        "\n",
        "～程式執行結果如下。\n",
        "\n",
        "請輸入體溫？36.5\n",
        "\n",
        "體溫正常"
      ]
    },
    {
      "cell_type": "code",
      "metadata": {
        "colab": {
          "base_uri": "https://localhost:8080/"
        },
        "id": "po3MtqcwFDti",
        "outputId": "b639b637-9ffe-434c-d84a-343aa9b723c6"
      },
      "source": [
        "tem=float(input(\"請輸入您的體溫\"))\n",
        "if tem<36:\n",
        "    print(\"體溫過低\")\n",
        "elif tem<38:\n",
        "    print(\"體溫正常\")\n",
        "elif tem<39:\n",
        "    print(\"體溫有點高，微燒\")\n",
        "else:\n",
        "    print(\"體溫過高，已發燒\")"
      ],
      "execution_count": 29,
      "outputs": [
        {
          "output_type": "stream",
          "text": [
            "請輸入您的體溫38.1\n",
            "體溫有點高，微燒\n"
          ],
          "name": "stdout"
        }
      ]
    },
    {
      "cell_type": "markdown",
      "metadata": {
        "id": "6kbP_oL-FDtj"
      },
      "source": [
        "**練習6  閏年判斷**\n",
        "\n",
        "設計程式允許輸入西元幾年，請求出該年是否是閏年，閏年表示該年多一天，若為4的倍數稱做閏年，但若為100的倍數就不為閏年，且若為400倍數又是閏年。(四年一潤、百年不潤、四百年再潤)\n",
        "\n",
        "輸入年份「2012」，輸出為「2012是閏年」。\n",
        "\n",
        "～程式執行結果如下。\n",
        "\n",
        "請輸入年份？2012\n",
        "\n",
        "2012 是閏年"
      ]
    },
    {
      "cell_type": "code",
      "metadata": {
        "colab": {
          "base_uri": "https://localhost:8080/"
        },
        "id": "1fFCIwRBFDtj",
        "outputId": "770cb2c6-854a-4dbc-9d4f-1e487f5368bb"
      },
      "source": [
        "year=int(input(\"請輸入西元年份:\"))\n",
        "if year%4==0 and year%100!=0:\n",
        "    print(f\"{year}年為閏年\")\n",
        "elif year%400==0:\n",
        "    print(f\"{year}年是閏年\")\n",
        "else:\n",
        "    print(f\"{year}年為平年\")"
      ],
      "execution_count": 45,
      "outputs": [
        {
          "output_type": "stream",
          "text": [
            "請輸入西元年份:1980\n",
            "1980年為閏年\n"
          ],
          "name": "stdout"
        }
      ]
    },
    {
      "cell_type": "markdown",
      "metadata": {
        "id": "Ety0rPSjFDtj"
      },
      "source": [
        "**練習12：計程車計費**\n",
        "\n",
        "某城市計程車計費3公里以內6元，超過3公里不足10公里、每公里1.8元，超過10公里則超過部分加收50%。此外停車等候每3分鐘收1元，請用Python寫出車費是多少。"
      ]
    },
    {
      "cell_type": "code",
      "metadata": {
        "colab": {
          "base_uri": "https://localhost:8080/"
        },
        "id": "GcNVbqiHFDtj",
        "outputId": "26f4415f-d3f0-4817-f3fd-a14397405089"
      },
      "source": [
        "km=float(input(\"請輸入您計程車的總里程數:\"))\n",
        "if km<=3:\n",
        "  print(\"總金額是6元\")\n",
        "elif km<=10:\n",
        "  print(f\"總金額是{6+(km-3)*1.8}元\")\n",
        "else:\n",
        "  total=6+(10-3)*1.8+(km-10)*1.5*1.8+10*1.8\n",
        "  print(f\"總金額是{total}元\")"
      ],
      "execution_count": 66,
      "outputs": [
        {
          "output_type": "stream",
          "text": [
            "請輸入您計程車的總里程數:15\n",
            "總金額是31.5元\n"
          ],
          "name": "stdout"
        }
      ]
    }
  ]
}
