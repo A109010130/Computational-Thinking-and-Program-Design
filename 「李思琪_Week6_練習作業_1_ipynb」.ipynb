{
  "nbformat": 4,
  "nbformat_minor": 0,
  "metadata": {
    "colab": {
      "name": "「李思琪-Week6-練習作業-1.ipynb」",
      "provenance": [],
      "collapsed_sections": [],
      "include_colab_link": true
    },
    "kernelspec": {
      "display_name": "Python 3",
      "language": "python",
      "name": "python3"
    },
    "language_info": {
      "codemirror_mode": {
        "name": "ipython",
        "version": 3
      },
      "file_extension": ".py",
      "mimetype": "text/x-python",
      "name": "python",
      "nbconvert_exporter": "python",
      "pygments_lexer": "ipython3",
      "version": "3.8.5"
    }
  },
  "cells": [
    {
      "cell_type": "markdown",
      "metadata": {
        "id": "view-in-github",
        "colab_type": "text"
      },
      "source": [
        "<a href=\"https://colab.research.google.com/github/A109010130/Computational-Thinking-and-Program-Design/blob/main/%E3%80%8C%E6%9D%8E%E6%80%9D%E7%90%AA_Week6_%E7%B7%B4%E7%BF%92%E4%BD%9C%E6%A5%AD_1_ipynb%E3%80%8D.ipynb\" target=\"_parent\"><img src=\"https://colab.research.google.com/assets/colab-badge.svg\" alt=\"Open In Colab\"/></a>"
      ]
    },
    {
      "cell_type": "markdown",
      "metadata": {
        "id": "wnyrzAGjhGPU"
      },
      "source": [
        "# 序列主題（一）:變數賦值與輸入輸出"
      ]
    },
    {
      "cell_type": "markdown",
      "metadata": {
        "id": "qto0EG3Y2XVc"
      },
      "source": [
        "## I. 自由練習"
      ]
    },
    {
      "cell_type": "markdown",
      "metadata": {
        "id": "v8MMOAhg6FVQ"
      },
      "source": [
        "**1. 變數賦值**\n",
        "\n",
        "用變數儲存資料，將資料放在電腦記憶體中的某個位置，然後給這個地方一個好名字。"
      ]
    },
    {
      "cell_type": "code",
      "metadata": {
        "colab": {
          "base_uri": "https://localhost:8080/"
        },
        "id": "9HGBkRRfcW2p",
        "outputId": "08193ee5-d93b-42c6-e4d5-fa8d44850a7b"
      },
      "source": [
        "b=2\n",
        "print(b)\n",
        "a=\"shu\"\n",
        "print(a)"
      ],
      "execution_count": null,
      "outputs": [
        {
          "output_type": "stream",
          "text": [
            "2\n",
            "shu\n"
          ],
          "name": "stdout"
        }
      ]
    },
    {
      "cell_type": "markdown",
      "metadata": {
        "id": "0IvbHo9y2fnk"
      },
      "source": [
        "**2. 變數三二一**\n",
        "\n",
        "一個特殊符號(等號、名字=資料)，兩種運算方式(運算式與函式)，三種資料型態(文字數字與布林)"
      ]
    },
    {
      "cell_type": "markdown",
      "metadata": {
        "id": "ojk8RUrAhGPW"
      },
      "source": [
        "(1)光有名字不行，要有等號，要有資料；名字在左、資料在右，運算式也可以。"
      ]
    },
    {
      "cell_type": "code",
      "metadata": {
        "id": "r3mqrAVF87Y5",
        "colab": {
          "base_uri": "https://localhost:8080/",
          "height": 133
        },
        "outputId": "88591e3c-b583-43c0-ebec-22741cc2254d"
      },
      "source": [
        "# 練習\n",
        "Sum = 0\n",
        "A = 1\n",
        "B = 2 #「=」的左邊是名字，不能放常數。\n",
        "A + B = Sum #「=」的左邊不能是運算式。 \n",
        "A, B = 1, 2 # 這樣寫可以，是Pythonic的寫法。"
      ],
      "execution_count": null,
      "outputs": [
        {
          "output_type": "error",
          "ename": "SyntaxError",
          "evalue": "ignored",
          "traceback": [
            "\u001b[0;36m  File \u001b[0;32m\"<ipython-input-2-66027d090e6f>\"\u001b[0;36m, line \u001b[0;32m5\u001b[0m\n\u001b[0;31m    A + B = Sum #「=」的左邊不能是運算式。\u001b[0m\n\u001b[0m                               ^\u001b[0m\n\u001b[0;31mSyntaxError\u001b[0m\u001b[0;31m:\u001b[0m can't assign to operator\n"
          ]
        }
      ]
    },
    {
      "cell_type": "code",
      "metadata": {
        "colab": {
          "base_uri": "https://localhost:8080/"
        },
        "id": "o90cIOrverHv",
        "outputId": "b0deae20-c300-425b-92f8-b025933d6888"
      },
      "source": [
        "x=1000\n",
        "y=3000\n",
        "sum=x+y\n",
        "print(sum)"
      ],
      "execution_count": null,
      "outputs": [
        {
          "output_type": "stream",
          "text": [
            "4000\n"
          ],
          "name": "stdout"
        }
      ]
    },
    {
      "cell_type": "code",
      "metadata": {
        "id": "uerYKHqR9C14"
      },
      "source": [
        "Sum = 0\n",
        "A = 1\n",
        "B = 2 #「=」的左邊是名字，不能放常數。\n",
        "Sum = A + B #「=」的左邊不能是運算式。 \n",
        "A, B = 1, 2 # 這樣寫可以，是Pythonic的寫法。"
      ],
      "execution_count": null,
      "outputs": []
    },
    {
      "cell_type": "markdown",
      "metadata": {
        "id": "cKYacmLehGPW"
      },
      "source": [
        "(2)變數的命名，選個好名字。"
      ]
    },
    {
      "cell_type": "markdown",
      "metadata": {
        "id": "E8_TvM0x6Ibe"
      },
      "source": [
        "**3.數字文字布林三種資料類型**\n",
        "\n",
        "整數浮點數、字串、真假。用type()判斷資料類型，用int(),float(),str(), bool()指定資料型態。"
      ]
    },
    {
      "cell_type": "code",
      "metadata": {
        "colab": {
          "base_uri": "https://localhost:8080/"
        },
        "id": "quGaPt0ve4Bv",
        "outputId": "4e700215-a445-4f39-8d65-9d077653a424"
      },
      "source": [
        "print(11)\n",
        "print(17)\n",
        "gd_mng=\"Good Moring!\"\n",
        "ntmu=\"Nice To Meet You!\"\n",
        "print(gd_mng)\n",
        "print(ntmu)\n",
        "sdd=\"溼答答\"\n",
        "lkk=\"老摳摳\"\n",
        "xswl=\"笑死我了\"\n",
        "print(sdd, lkk, xswl)\n",
        "yo=\"I'm 19 years old.\"\n",
        "yo1=\"I\\'m 19 years old.\"\n",
        "yo2='I\\'m 19 years old.'\n",
        "print(sj, sj1 ,sj2)\n",
        "print(True)\n",
        "print(False)"
      ],
      "execution_count": null,
      "outputs": [
        {
          "output_type": "stream",
          "text": [
            "11\n",
            "17\n",
            "Good Moring!\n",
            "Nice To Meet You!\n",
            "溼答答 老摳摳 笑死我了\n",
            "I'm 19 years old. I'm 19 years old. I'm 19 years old.\n",
            "True\n",
            "False\n"
          ],
          "name": "stdout"
        }
      ]
    },
    {
      "cell_type": "code",
      "metadata": {
        "id": "DYfNdmYGhslI",
        "colab": {
          "base_uri": "https://localhost:8080/"
        },
        "outputId": "3c8e477c-dd42-4eb4-a363-c383bb1957e4"
      },
      "source": [
        "s=\"\"\"\n",
        "床前明月光\\n\\\n",
        "疑是地上霜\\n\\\n",
        "舉頭望明月\\n\\\n",
        "低頭思故鄉\\n\\\n",
        "\"\"\"\n",
        "print(s)"
      ],
      "execution_count": null,
      "outputs": [
        {
          "output_type": "stream",
          "text": [
            "\n",
            "床前明月光\n",
            "疑是地上霜\n",
            "舉頭望明月\n",
            "低頭思故鄉\n",
            "\n"
          ],
          "name": "stdout"
        }
      ]
    },
    {
      "cell_type": "code",
      "metadata": {
        "colab": {
          "base_uri": "https://localhost:8080/"
        },
        "id": "MRX7Wdnu9LxD",
        "outputId": "9009f524-b950-428e-b5fc-46e6d9ffbb55"
      },
      "source": [
        "# 練習\n",
        "print(87)\n",
        "print(8.7)\n",
        "\n",
        "hello_py1 = 'Hello Python!'\n",
        "hello_py2 = \"Hello Python!\"\n",
        "print(hello_py1)\n",
        "print(hello_py2)\n",
        "\n",
        "es1 = \"I'm a student.\"\n",
        "es2 = \"I\\'m a student.\"\n",
        "es3 = 'I\\'m a student.'\n",
        "print(es1, es2, es3)\n",
        "\n",
        "print(True)\n",
        "print(False)"
      ],
      "execution_count": null,
      "outputs": [
        {
          "output_type": "stream",
          "text": [
            "87\n",
            "8.7\n",
            "Hello Python!\n",
            "Hello Python!\n",
            "I'm a student. I'm a student. I'm a student.\n",
            "True\n",
            "False\n"
          ],
          "name": "stdout"
        }
      ]
    },
    {
      "cell_type": "markdown",
      "metadata": {
        "id": "BlzW-KBShGPX"
      },
      "source": [
        "(3)資料類型的判斷用type()"
      ]
    },
    {
      "cell_type": "code",
      "metadata": {
        "colab": {
          "base_uri": "https://localhost:8080/"
        },
        "id": "P3hAVD2Fms_w",
        "outputId": "56b82d00-1ff7-41c6-d9e0-608da2924212"
      },
      "source": [
        "x=1000\n",
        "print(type(x))\n",
        "y=\"1000\"\n",
        "print(type(y))"
      ],
      "execution_count": null,
      "outputs": [
        {
          "output_type": "stream",
          "text": [
            "<class 'int'>\n",
            "<class 'str'>\n"
          ],
          "name": "stdout"
        }
      ]
    },
    {
      "cell_type": "markdown",
      "metadata": {
        "id": "F_QiVc-4hGPX"
      },
      "source": [
        "(4)資料類型的建立與轉換用int(), float(),str(),bool() "
      ]
    },
    {
      "cell_type": "markdown",
      "metadata": {
        "id": "DArIzBHe6om9"
      },
      "source": [
        "**4.輸入**\n",
        "\n",
        "用input()輸入資料。要有小括號、要有輸入說明、要有等號賦值，儲存的資料為文字字串、做數學運算時需要改變資料類型。"
      ]
    },
    {
      "cell_type": "code",
      "metadata": {
        "id": "HAx_qPWI-enp",
        "colab": {
          "base_uri": "https://localhost:8080/"
        },
        "outputId": "3dec7dff-2d30-4981-b7d9-88ec32fa054b"
      },
      "source": [
        "# 練習\n",
        "a = input(\"Input number a = \")\n",
        "b = input(\"Input number b = \")\n",
        "a=int(a)\n",
        "b=int(b)\n",
        "print(a, b)\n",
        "print(a + b)\n",
        "print(a + 100)"
      ],
      "execution_count": null,
      "outputs": [
        {
          "output_type": "stream",
          "text": [
            "Input number a = 100\n",
            "Input number b = 290\n",
            "100 290\n",
            "390\n",
            "200\n"
          ],
          "name": "stdout"
        }
      ]
    },
    {
      "cell_type": "code",
      "metadata": {
        "id": "lfH17gjb-4Bw",
        "colab": {
          "base_uri": "https://localhost:8080/"
        },
        "outputId": "93442540-32cb-470a-db51-f03ac2dff2ff"
      },
      "source": [
        "# 練習\n",
        "a = input(\"Input number a = \")\n",
        "b = input(\"Input number b = \")\n",
        "print(a, b)\n",
        "print(a + b)\n",
        "a = eval(a)\n",
        "print(a + 1)"
      ],
      "execution_count": null,
      "outputs": [
        {
          "output_type": "stream",
          "text": [
            "Input number a = 200.\n",
            "Input number b = 100\n",
            "200. 100\n",
            "200.100\n",
            "201.0\n"
          ],
          "name": "stdout"
        }
      ]
    },
    {
      "cell_type": "markdown",
      "metadata": {
        "id": "3Aof0VJI7Oq6"
      },
      "source": [
        "**5.輸出**\n",
        "\n",
        "print()為螢幕列印。將物件放在小括號中，多個物件以逗號相隔即可。\n",
        "注意分隔、換行等轉義序列用法(\\n, \\t, \\\", \\')。\n",
        "可以使用字串輸出列印，即print(f\"...{variable}...\")"
      ]
    },
    {
      "cell_type": "code",
      "metadata": {
        "id": "mHPoMyCTANrt",
        "colab": {
          "base_uri": "https://localhost:8080/"
        },
        "outputId": "9b253fc6-30cf-45e1-e673-2e62a9664f1e"
      },
      "source": [
        "# 練習\n",
        "\n",
        "print(\"Hello, Francis\")\n",
        "\n",
        "name = \"Francis\"\n",
        "print(\"Hello, %s\" %name)\n",
        "print(\"Hello, {}\".format(name))"
      ],
      "execution_count": null,
      "outputs": [
        {
          "output_type": "stream",
          "text": [
            "Hello, Francis\n",
            "Hello, Francis\n",
            "Hello, Francis\n",
            "Hello, Francis\n"
          ],
          "name": "stdout"
        }
      ]
    },
    {
      "cell_type": "code",
      "metadata": {
        "colab": {
          "base_uri": "https://localhost:8080/"
        },
        "id": "YymIXJ40gmyU",
        "outputId": "c67900fc-5527-44c4-9067-8e10e606e213"
      },
      "source": [
        "print(\"hello hellokitty\")\n",
        "name=\"Angel\"\n",
        "print(\"hello, {}\".format(name))\n",
        "print(\"Hello, {}\".format(name))"
      ],
      "execution_count": null,
      "outputs": [
        {
          "output_type": "stream",
          "text": [
            "hello hellokitty\n",
            "hello, Angel\n",
            "Hello, Angel\n"
          ],
          "name": "stdout"
        }
      ]
    },
    {
      "cell_type": "code",
      "metadata": {
        "id": "cBou1bW8hVOB"
      },
      "source": [
        ""
      ],
      "execution_count": null,
      "outputs": []
    },
    {
      "cell_type": "markdown",
      "metadata": {
        "id": "13ZEwX9BNqG4"
      },
      "source": [
        "## II. 隨堂練習"
      ]
    },
    {
      "cell_type": "markdown",
      "metadata": {
        "id": "6AwUda3ZhsZG"
      },
      "source": [
        "**隨堂練習1: 自我介紹**\n",
        "\n",
        "我們將和電腦一起完成很多工作，並要求它為我們做一堆很酷的事情，所以不妨來個自我介紹，正式打個招呼！\n",
        "\n",
        "(1)使用print()函數向電腦介紹自己。你的自我介紹應該顯示在主控台視窗裡，中英文均可。\n",
        "\n",
        "(2)更改現有的print()函數，使用f字串。\n",
        "\n",
        "請創立兩個變數，name和age；然後為name變數指派你的名字字串，為age變數指派一個數學運算式，計算你的年齡。最後，使用f字串、name和age變數輸出你的簡介到電腦上！\n",
        "\n",
        "預期輸出範例\n",
        "\n",
        "\"Hello, My name is Franics. I was bon in 2000.\"\n",
        "\n",
        "\"Hi, My name is Franics and I am 21 years old!\""
      ]
    },
    {
      "cell_type": "code",
      "metadata": {
        "id": "ZONf2snOg7Ml",
        "colab": {
          "base_uri": "https://localhost:8080/"
        },
        "outputId": "524fbca7-9d2f-4b08-8d55-076ac366e11e"
      },
      "source": [
        "print(\"Hello, My name is Angel. I was born in 2001\")\n",
        "name = \"Angel\" \n",
        "age = 2021-2001\n",
        "print(f\"Hi, my name is {name} and I am {age} years old.\")\n",
        "name=input(\"please enter your name:\")\n",
        "year=int(input(\"When were you born:\"))\n",
        "age=2021-year\n",
        "print(f\"Hi, my name is {name} and I am {age} years old.\")"
      ],
      "execution_count": 1,
      "outputs": [
        {
          "output_type": "stream",
          "text": [
            "Hello, My name is Angel. I was born in 2001\n",
            "Hi, my name is Angel and I am 20 years old.\n",
            "please enter your name:szechi\n",
            "When were you born:2001\n",
            "Hi, my name is szechi and I am 20 years old.\n"
          ],
          "name": "stdout"
        }
      ]
    },
    {
      "cell_type": "markdown",
      "metadata": {
        "id": "3TUFVF1wiGF8"
      },
      "source": [
        "\n",
        "**隨堂練習2: 引用引文**\n",
        "\n",
        "在網路上搜尋名言，或者使用你自己的名言。它可以是激勵你的文字、電影中一段有趣的台詞，甚至是家人說的話。"
      ]
    },
    {
      "cell_type": "code",
      "metadata": {
        "id": "WqZMyqT1uUeT",
        "colab": {
          "base_uri": "https://localhost:8080/"
        },
        "outputId": "e5ba269e-5f95-456c-b56f-d7b7682f94ad"
      },
      "source": [
        "print(\"\\\"Not All Right, But its Alright.\\\"\")"
      ],
      "execution_count": null,
      "outputs": [
        {
          "output_type": "stream",
          "text": [
            "\"Not All Right, But its Alright.\"\n"
          ],
          "name": "stdout"
        }
      ]
    },
    {
      "cell_type": "markdown",
      "metadata": {
        "id": "tKhmRklJiNQ7"
      },
      "source": [
        "**隨堂練習3: 情緒變數**\n",
        "\n",
        "通常，我們的心情每天每分每秒都在變化。某天我們可能精力充沛，隔天我們可能感覺非常疲憊；或者今天是星期五，大多數的人都非常快樂！無論我們的心情如何，我們都可以使用變數保存它。"
      ]
    },
    {
      "cell_type": "code",
      "metadata": {
        "id": "7t7Ubg1Kn0DD",
        "colab": {
          "base_uri": "https://localhost:8080/"
        },
        "outputId": "f0bc1ab8-7a81-4f1a-ee95-e1b208ee65ae"
      },
      "source": [
        "mood=\"tired\"\n",
        "print(\"今天我很%s!\" %mood)\n",
        "print(\"今天我很{}!\".format(mood))\n",
        "print(f\"今天我很{mood}!\")"
      ],
      "execution_count": 69,
      "outputs": [
        {
          "output_type": "stream",
          "text": [
            "今天我很tired!\n",
            "今天我很tired!\n",
            "今天我很tired!\n"
          ],
          "name": "stdout"
        }
      ]
    },
    {
      "cell_type": "markdown",
      "metadata": {
        "id": "yhT7SEOgigU-"
      },
      "source": [
        "**隨堂練習4: 滑稽故事**\n",
        "\n",
        "你玩過Mad Libs這種紙上遊戲嗎？這是一個有趣的遊戲，你要求另一個人給你各種類型單字，例如：顏色、數字、形容詞等，並且將這些單字填補到短篇故事中的空白處，當空白處填完畢後，你朗誦整段故事給他們聽，大多時候，這些故事真的變得很滑稽。\n",
        "\n",
        "大家該做什麼\n",
        "\n",
        "我們知道可以使用f字串替換字串的某些部分，編寫一個程式，輸出你那荒謬的、來自朋友的故事。以下是開始的步驟：\n",
        "\n",
        "Step 1: 創立一個新檔來儲存滑稽故事的程式。\n",
        "\n",
        "Step 2: 創立四到五個不同類型單字的變數。例如下面並儲存這些變數在檔案中。\n",
        "\n",
        "```\n",
        "name = \"\"\n",
        "adjective = \"\"\n",
        "favorite_snack = \"\"\n",
        "number = \"\"\n",
        "type_of_tree = \"\"\n",
        "```\n",
        "\n",
        "請注意，我們尚未指派變數的任何值。這裡就是之後填入朋友提供你的單字之處。\n",
        "\n",
        "Step3: 創立另一個變數保存你的滑稽故事，你可以使用此模版或編寫你自己的模版：\n",
        "\n",
        "```\n",
        "silly_story = f\"\"\"\n",
        "Hi, my name is {name}.\n",
        "I really like {adjective}{favorite_snack}!\n",
        "I like it so much, I try to eat it at least {number} times every day.\n",
        "It tastes even better when you eat it under a {type of tree}!\n",
        "\"\"\"\n",
        "```\n",
        "\n",
        "Step4: 最後，使用print()函式輸出你的滑稽故事：\n",
        "\n",
        "```\n",
        "print(silly_story)\n",
        "```\n",
        "\n",
        "這樣就完成了！現在去找朋友，要求他們給一些單字（你的變數）。將變數更改為朋友給你的單字，儲存程式然後執行它，看看你的滑稽故事。"
      ]
    },
    {
      "cell_type": "code",
      "metadata": {
        "colab": {
          "base_uri": "https://localhost:8080/"
        },
        "id": "TP93-zKPNvrY",
        "outputId": "da234499-a823-40bb-c66f-e77f464b6439"
      },
      "source": [
        "name=input(\"name:\")\n",
        "adj=input(\"one adjective word:\")\n",
        "v_ing=input(\"one v_ing word:\")\n",
        "favorite_place=input(\"your favorite place:\")\n",
        "favorite_song=input(\"your favorite song:\")\n",
        "\n",
        "silly_story=f\"\"\"\n",
        "Hi,my name is {name}.\n",
        "My hobby is {v_ing} at {favorite_place}.\n",
        "When I am {adj},I would like to sing {favorite_song}.\n",
        "\"\"\"\n",
        "print(silly_story)"
      ],
      "execution_count": 22,
      "outputs": [
        {
          "output_type": "stream",
          "text": [
            "name:alex\n",
            "one adjective word:tasty\n",
            "one v_ing word:shopping\n",
            "your favorite place:my bedroom\n",
            "your favorite song:happy birthday\n",
            "\n",
            "Hi,my name is alex.\n",
            "My hobby is shopping at my bedroom.\n",
            "When I am tasty,I would like to sing happy birthday.\n",
            "\n"
          ],
          "name": "stdout"
        }
      ]
    },
    {
      "cell_type": "markdown",
      "metadata": {
        "id": "MM_K13L9OGfY"
      },
      "source": [
        "III. 課後練習"
      ]
    },
    {
      "cell_type": "markdown",
      "metadata": {
        "id": "gWi7UdhNDmpI"
      },
      "source": [
        "**練習3: 變數賦值，小猴子摘水果**\n",
        "\n",
        "有一天，一隻小猴子來到果園裡，牠走道蘋果樹下，看到滿樹的蘋果，就爬上去摘了2個。又看到不滿的地方有一個梨子樹，又大又黃，就丟掉蘋果，爬到梨子樹摘了1個梨子。正準備吃的時候，看到前方又紅又大的桃子樹，就又高高興興地跑到桃樹上，摘了3個桃子。這時傳來小鳥的叫聲，鳥在香蕉樹上，當然就立馬飛奔去摘香蕉，最後吃了6根香蕉。請問這隻猴子摘了多少個水果，手中最後的水果是什麼？請你用Python記錄一下！"
      ]
    },
    {
      "cell_type": "code",
      "metadata": {
        "colab": {
          "base_uri": "https://localhost:8080/"
        },
        "id": "l0mI-kQjJhcI",
        "outputId": "146e0dc1-153b-4575-aeb9-aa919048f4e4"
      },
      "source": [
        "apple=2\n",
        "pear=1\n",
        "peach=3\n",
        "banana=6\n",
        "total=apple+pear+peach+banana\n",
        "first,second,third,last=\"apple\",\"pear\",\"peach\",\"banana\"\n",
        "sentence_1=\"The quantity of fruits which monkey takes are\"\n",
        "sentence_2=\"And finally,the kind of fruit which in mokey\\'s hand is\"\n",
        "print(f\"{sentence_1} {total}.\") \n",
        "print(f\"{sentence_2} {last}.\")                                 "
      ],
      "execution_count": 70,
      "outputs": [
        {
          "output_type": "stream",
          "text": [
            "The quantity of fruits which monkey takes are 12.\n",
            "And finally,the kind of fruit which in mokey's hand is banana.\n"
          ],
          "name": "stdout"
        }
      ]
    },
    {
      "cell_type": "markdown",
      "metadata": {
        "id": "67eb5JKZDvPn"
      },
      "source": [
        "**練習4: 是真的嗎？網路資料不輕信**\n",
        "\n",
        "宣宣這學期開始學習Python，老師和學長姊都說多上網查找相關資料，多多麻煩Google大神找答案，是提升自學能力最好的方法。於是她看到一段與上課有關但老師沒有教的內容，宣宣想看看下面的內容正不正確，你能幫助她嗎？(1)在Python中，用1表示True，用0和其他非1的整數表示False。(2)在Python中，所有物件都可以進行布林測試。"
      ]
    },
    {
      "cell_type": "code",
      "metadata": {
        "colab": {
          "base_uri": "https://localhost:8080/"
        },
        "id": "dj-_2MZ-Rn81",
        "outputId": "af0ca27f-cf68-46b8-a417-c6ade61b4616"
      },
      "source": [
        "print(bool(0))\n",
        "print(bool(1))\n",
        "print(bool(5))\n",
        "print(bool(7))\n",
        "if bool(1)==True:\n",
        "  print(\"「用1表示True」為正確\")\n",
        "else:\n",
        "  print(\"「用1表示True」為錯誤\")\n",
        "if bool(5)==True:\n",
        "  print(\"「用0和其他非1的整數表示False」為錯誤\") \n",
        "else:\n",
        "  print(\"「用0和其他非1的整數表示False」為正確\")  \n",
        "if bool(7)==False:\n",
        "  print(\"「用0和其他非1的整數表示False」為正確\") \n",
        "else:\n",
        "  print(\"「用0和其他非1的整數表示False」為錯誤\")     "
      ],
      "execution_count": 57,
      "outputs": [
        {
          "output_type": "stream",
          "text": [
            "False\n",
            "True\n",
            "True\n",
            "True\n",
            "「用1表示True」為正確\n",
            "「用0和其他非1的整數表示False」為錯誤\n",
            "「用0和其他非1的整數表示False」為錯誤\n"
          ],
          "name": "stdout"
        }
      ]
    },
    {
      "cell_type": "code",
      "metadata": {
        "colab": {
          "base_uri": "https://localhost:8080/"
        },
        "id": "oXRrQxw5ScrQ",
        "outputId": "654b80e4-6c02-465b-d5e1-1ca9c2fe2531"
      },
      "source": [
        "bool(None)\n",
        "bool(False)\n",
        "bool(0)\n",
        "bool(0.0)\n",
        "bool(0.0j)\n",
        "bool(\"\")\n",
        "bool([])\n",
        "bool(())\n",
        "bool({})"
      ],
      "execution_count": 59,
      "outputs": [
        {
          "output_type": "execute_result",
          "data": {
            "text/plain": [
              "False"
            ]
          },
          "metadata": {
            "tags": []
          },
          "execution_count": 59
        }
      ]
    }
  ]
}