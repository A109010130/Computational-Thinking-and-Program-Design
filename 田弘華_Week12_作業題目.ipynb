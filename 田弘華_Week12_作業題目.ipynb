{
  "nbformat": 4,
  "nbformat_minor": 0,
  "metadata": {
    "kernelspec": {
      "display_name": "Python 3",
      "language": "python",
      "name": "python3"
    },
    "language_info": {
      "codemirror_mode": {
        "name": "ipython",
        "version": 3
      },
      "file_extension": ".py",
      "mimetype": "text/x-python",
      "name": "python",
      "nbconvert_exporter": "python",
      "pygments_lexer": "ipython3",
      "version": "3.8.5"
    },
    "colab": {
      "name": "田弘華 - Week12 -作業題目.ipynb",
      "provenance": [],
      "include_colab_link": true
    }
  },
  "cells": [
    {
      "cell_type": "markdown",
      "metadata": {
        "id": "view-in-github",
        "colab_type": "text"
      },
      "source": [
        "<a href=\"https://colab.research.google.com/github/A109010130/Computational-Thinking-and-Program-Design/blob/main/%E7%94%B0%E5%BC%98%E8%8F%AF_Week12_%E4%BD%9C%E6%A5%AD%E9%A1%8C%E7%9B%AE.ipynb\" target=\"_parent\"><img src=\"https://colab.research.google.com/assets/colab-badge.svg\" alt=\"Open In Colab\"/></a>"
      ]
    },
    {
      "cell_type": "markdown",
      "metadata": {
        "id": "D9bOhOHEmwlA"
      },
      "source": [
        "**隨堂練習 1：請輸入身分證字號，並判斷尾數是否為奇數?** "
      ]
    },
    {
      "cell_type": "code",
      "metadata": {
        "colab": {
          "base_uri": "https://localhost:8080/"
        },
        "id": "wLGp3u1xmwlH",
        "outputId": "8838512e-f1e2-4648-8d37-3f4feb236a17"
      },
      "source": [
        "identity=input(\"請輸入身分證字號:\")\n",
        "number=identity[9]\n",
        "print(number)\n",
        "number=int(number)\n",
        "if number%2==0:\n",
        "  print(\"身分證尾數為偶數\")\n",
        "else: \n",
        "  print(\"身分證尾數為奇數\")"
      ],
      "execution_count": 1,
      "outputs": [
        {
          "output_type": "stream",
          "text": [
            "請輸入身分證字號:F123456789\n",
            "9\n",
            "身分證尾數為奇數\n"
          ],
          "name": "stdout"
        }
      ]
    },
    {
      "cell_type": "markdown",
      "metadata": {
        "id": "-rZhjzHRmwlH"
      },
      "source": [
        "**回家作業**\n",
        "\n",
        "組長:李思琪\n",
        "    \n",
        "組員:楊曉林 陳宣樺 楊怡萱\n",
        "    \n",
        "期末報告題目: \n",
        "\n",
        "心理測驗\n",
        "百字腳本初稿:\n",
        "網路心理測驗百百種，但你真的有想過其中的可信度嗎?我們的團隊經過大數據的統計，與一連串的問題與分析，找出與你性格最相近的動物是什麼!並且在測驗後詳細的列出你的性格、取向，完整的呈現你是個什麼樣的人!\n",
        "\n",
        "\n",
        "\n",
        "(Note: **用電腦解決問題，你要解決的問題就是你的題目；解決問題的方法是什麼，請設計用對話方式讓我們知道答案。**\n",
        "\n",
        "在日常生活中，所有與客服有關的事情，都可以自動化改用對話機器人處理。例如:你去銀行櫃台詢問存錢事宜，你去系辦詢問選課事宜，你去餐廳詢問點餐事宜等等。這些例子都是針對一個問題，透過你和客服互動對話後解決。將與這些真人的客服對話自動化後，就變成對話機器人。對話機器人是目前全世界最熱門的商業互動模式，也是未來世界的趨勢。)\n"
      ]
    }
  ]
}