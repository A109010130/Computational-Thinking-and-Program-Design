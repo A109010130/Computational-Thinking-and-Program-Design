{
  "nbformat": 4,
  "nbformat_minor": 0,
  "metadata": {
    "colab": {
      "name": "李思琪-week3-練習作業.ipynb",
      "provenance": [],
      "collapsed_sections": [],
      "authorship_tag": "ABX9TyMuq2vRD77vJ2Vw0tkdm5DD",
      "include_colab_link": true
    },
    "kernelspec": {
      "name": "python3",
      "display_name": "Python 3"
    }
  },
  "cells": [
    {
      "cell_type": "markdown",
      "metadata": {
        "id": "view-in-github",
        "colab_type": "text"
      },
      "source": [
        "<a href=\"https://colab.research.google.com/github/A109010130/Computational-Thinking-and-Program-Design/blob/main/%E6%9D%8E%E6%80%9D%E7%90%AA_week3_%E7%B7%B4%E7%BF%92%E4%BD%9C%E6%A5%AD.ipynb\" target=\"_parent\"><img src=\"https://colab.research.google.com/assets/colab-badge.svg\" alt=\"Open In Colab\"/></a>"
      ]
    },
    {
      "cell_type": "code",
      "metadata": {
        "colab": {
          "base_uri": "https://localhost:8080/"
        },
        "id": "rqF-Dna0ga5U",
        "outputId": "622519e7-53c9-490d-9aa5-3d80ec8f3686"
      },
      "source": [
        "print(1+1)"
      ],
      "execution_count": 1,
      "outputs": [
        {
          "output_type": "stream",
          "text": [
            "2\n"
          ],
          "name": "stdout"
        }
      ]
    },
    {
      "cell_type": "markdown",
      "metadata": {
        "id": "IWUpNlk_h5DD"
      },
      "source": [
        "計算機"
      ]
    },
    {
      "cell_type": "code",
      "metadata": {
        "colab": {
          "base_uri": "https://localhost:8080/"
        },
        "id": "jK6otbjTgxM8",
        "outputId": "46c90f47-4646-4e8d-c0e7-ffa0bd2b4de1"
      },
      "source": [
        "print(\"Hello World\")"
      ],
      "execution_count": 3,
      "outputs": [
        {
          "output_type": "stream",
          "text": [
            "Hello World\n"
          ],
          "name": "stdout"
        }
      ]
    },
    {
      "cell_type": "markdown",
      "metadata": {
        "id": "Bbncgh2Nh-Ro"
      },
      "source": [
        "第一次作業"
      ]
    },
    {
      "cell_type": "code",
      "metadata": {
        "id": "Q-B_WUgKhRC8"
      },
      "source": [
        ""
      ],
      "execution_count": null,
      "outputs": []
    },
    {
      "cell_type": "markdown",
      "metadata": {
        "id": "HRFUxjj3h4Yf"
      },
      "source": [
        ""
      ]
    }
  ]
}