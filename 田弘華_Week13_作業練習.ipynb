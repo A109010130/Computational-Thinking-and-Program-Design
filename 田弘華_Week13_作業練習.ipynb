{
  "nbformat": 4,
  "nbformat_minor": 0,
  "metadata": {
    "kernelspec": {
      "display_name": "Python 3",
      "language": "python",
      "name": "python3"
    },
    "language_info": {
      "codemirror_mode": {
        "name": "ipython",
        "version": 3
      },
      "file_extension": ".py",
      "mimetype": "text/x-python",
      "name": "python",
      "nbconvert_exporter": "python",
      "pygments_lexer": "ipython3",
      "version": "3.8.5"
    },
    "colab": {
      "name": "田弘華-Week13-作業練習.ipynb",
      "provenance": [],
      "include_colab_link": true
    }
  },
  "cells": [
    {
      "cell_type": "markdown",
      "metadata": {
        "id": "view-in-github",
        "colab_type": "text"
      },
      "source": [
        "<a href=\"https://colab.research.google.com/github/A109010130/Computational-Thinking-and-Program-Design/blob/main/%E7%94%B0%E5%BC%98%E8%8F%AF_Week13_%E4%BD%9C%E6%A5%AD%E7%B7%B4%E7%BF%92.ipynb\" target=\"_parent\"><img src=\"https://colab.research.google.com/assets/colab-badge.svg\" alt=\"Open In Colab\"/></a>"
      ]
    },
    {
      "cell_type": "markdown",
      "metadata": {
        "id": "wmmhbHzapRsD"
      },
      "source": [
        "#### 隨堂練習1: 滿2000 打九折\n",
        "\n",
        "**請寫一個程式幫助店家計算顧客所需付出的金額。**\n",
        "\n",
        "採買物品時，有時會遇到店家為了刺激消費，會使用滿額折扣。例如，滿2000 打九折，未滿2000 則不打折。"
      ]
    },
    {
      "cell_type": "code",
      "metadata": {
        "id": "JcCpEqygpRsG"
      },
      "source": [
        "price=int(input(\"物品價格:\"))\n",
        "if price>=2000:\n",
        "  final_price=price*0.9\n",
        "  print(f\"顧客須付{final_price}元\")\n",
        "else:\n",
        "    print(f\"顧客須付{price}元\")"
      ],
      "execution_count": null,
      "outputs": []
    },
    {
      "cell_type": "markdown",
      "metadata": {
        "id": "AfJzu5MZpRsG"
      },
      "source": [
        "#### 隨堂練習2: 判斷奇偶數\n",
        "\n",
        "請寫一個程式判斷輸入的值是奇數還是偶數。"
      ]
    },
    {
      "cell_type": "code",
      "metadata": {
        "id": "vFHIbs-XpRsH"
      },
      "source": [
        "number=int(input(\"Please enter a number:\"))\n",
        "if number%2==0:\n",
        "  print(\"該值為偶數\")\n",
        "else:\n",
        "  print(\"該值為奇數\")"
      ],
      "execution_count": null,
      "outputs": []
    },
    {
      "cell_type": "markdown",
      "metadata": {
        "id": "DQWtCTXwpRsH"
      },
      "source": [
        "#### 練習7. Think Like a Computer Scientist\n",
        "\n",
        "如果輸入的num為20, 9, 5,和0，請用你的邏輯直接告訴我，下面兩組程式結果與差異:\n",
        "    \n",
        "```{pYTHON}\n",
        "## 方法（一）：if 敘述\n",
        "num = int(input(\"Enter a number: \"))\n",
        "if num < 6:\n",
        "    print(\"num is less than 6\")\n",
        "if num < 10:\n",
        "    print(\"num is less than 10\")\n",
        "if num > 3:\n",
        "    print(\"num is greater than 3\")\n",
        "print(\"Finished.\")\n",
        "\n",
        "## 方法（二）：if-elif-else敘述\n",
        "num = input(\"Pick a number! \")\n",
        "num = int(num)\n",
        "if num < 6:\n",
        "    print(\"number is less than 6.\")\n",
        "elif num < 10:\n",
        "    print(\"number is less than 10.\")\n",
        "elif num > 3:\n",
        "    print(\"number is greater than 3.\")\n",
        "else:\n",
        "    print(\"No relation is found.\")\n",
        "print(\"Finished.\")\n",
        "\n",
        "```"
      ]
    },
    {
      "cell_type": "markdown",
      "metadata": {
        "id": "YwUD9-4nv3R_"
      },
      "source": [
        "###結果與分析\n",
        "從以下結果可以得知\n",
        "\n",
        "方法一中，我所選擇的數字是8，而在if 敘述下，這三個if是獨立進行的，8<10同時也>3，滿足了後兩個if的情況，於是程式執行的結果為「 print(\"num is less than 10\") 」和「 print(\"num is greater than 3\") 」\n",
        "但在if-elif-else敘述下，這三個if是有順序的，若前面的if已滿足，後面的if就不會繼續進行，於是從程式執行結果可以看到，\n",
        "5雖然同時<6又<10又>3，但因為最前面的「if num < 6:」已完成需求，後兩個if即使有達成需求也不會執行，而是直接跳到最後的「而是直接跳到最後的「print(\"Finished.\")」"
      ]
    },
    {
      "cell_type": "code",
      "metadata": {
        "colab": {
          "base_uri": "https://localhost:8080/"
        },
        "id": "deLvwA-WpRsH",
        "outputId": "c7b3feb0-ca1d-4132-de51-9246264897df"
      },
      "source": [
        "## 方法（一）：if 敘述\n",
        "num = int(input(\"Enter a number: \"))\n",
        "if num < 6:\n",
        "    print(\"num is less than 6\")\n",
        "if num < 10:\n",
        "    print(\"num is less than 10\")\n",
        "if num > 3:\n",
        "    print(\"num is greater than 3\")\n",
        "print(\"Finished.\")\n",
        " \n",
        "## 方法（二）：if-elif-else敘述\n",
        "num = input(\"Pick a number! \")\n",
        "num = int(num)\n",
        "if num < 6:\n",
        "    print(\"number is less than 6.\")\n",
        "elif num < 10:\n",
        "    print(\"number is less than 10.\")\n",
        "elif num > 3:\n",
        "    print(\"number is greater than 3.\")\n",
        "else:\n",
        "    print(\"No relation is found.\")\n",
        "print(\"Finished.\")\n"
      ],
      "execution_count": 6,
      "outputs": [
        {
          "output_type": "stream",
          "text": [
            "Enter a number: 8\n",
            "num is less than 10\n",
            "num is greater than 3\n",
            "Finished.\n",
            "Pick a number! 5\n",
            "number is less than 6.\n",
            "Finished.\n"
          ],
          "name": "stdout"
        }
      ]
    },
    {
      "cell_type": "markdown",
      "metadata": {
        "id": "V85Zj0FkvzBQ"
      },
      "source": [
        ""
      ]
    },
    {
      "cell_type": "markdown",
      "metadata": {
        "id": "CYmbgfmopRsI"
      },
      "source": [
        "#### 練習2. 時尚偵測師\n",
        "\n",
        "時尚達人Cher 和 Dionne要參加一個華麗的派對。他們想確保他們的穿搭與眾不同，但有也想保留一點共同的地方，比如兩人都喜歡粉紅色。讓我們寫一些程式，確保兩人的穿搭都個性十足！\n",
        "\n",
        "～首先，請用變數賦值的方式決定兩位的穿著\n",
        "\n",
        "```{Python}\n",
        "## 例如下面的穿著建議，請同學自行修改\n",
        "cher_dress_color = \"pink\"\n",
        "cher_shoe_color = \"white\"\n",
        "cher_has_earrings = True\n",
        "dionne_dress_color = \"purple\"\n",
        "dionne_shoe_color = \"pink\"\n",
        "dionne_has_earrings = True\n",
        "```\n",
        "\n",
        "～其次，請同學用真假值做時尚偵測，檢查一下兩位時尚達人的穿搭是否符合下面的要點:\n",
        "\n",
        "1. 至少有一人穿紫色 At least one person is wearing purple? \n",
        "2. 兩人穿不同顏色的衣服Cher and Dionne have different dress colors.\n",
        "3. 兩人都戴耳環Cher and Dionne are both earing earrings.\n",
        "4. 至少有一人穿粉紅色 At least one person is wearing pink.\n",
        "5. 沒人穿綠色。 No one is wearing green.\n",
        "6. 兩人穿同顏色的鞋子 Cher and Dionne have the same shoe color.\n",
        "\n",
        "```{PYTHON}\n",
        "## 例如\n",
        "print(f'At least one person is wearing pink? {cher_dress_color == \"pink\" or dionne_dress_color == \"pink\"}')\n",
        "\n",
        ".......請同學自行撰寫判斷程式\n",
        "```\n"
      ]
    },
    {
      "cell_type": "code",
      "metadata": {
        "colab": {
          "base_uri": "https://localhost:8080/"
        },
        "id": "5qo4X2xSpRsI",
        "outputId": "8b7b06ea-0797-4bd0-f001-e89a5bb92d48"
      },
      "source": [
        "c_dress_color = \"pink\"\n",
        "c_shoe_color = \"black\"\n",
        "c_has_earrings = True\n",
        "d_dress_color = \"purple\"\n",
        "d_shoe_color = \"black\"\n",
        "d_has_earrings = False\n",
        "if c_dress_color!=\"purple\" and d_dress_color!=\"purple\":\n",
        "  print(\"Q1.At least one person is wearing purple? :No\")\n",
        "else:\n",
        "  print(\"Q1.At least one person is wearing purple? :Yes\")\n",
        "if c_dress_color==d_dress_color:\n",
        "  print(\"Q2.Do Cher and Dionne have different dress colors? :No\")\n",
        "else:\n",
        "  print(\"Q2.Do Cher and Dionne have different dress colors? :Yes\")\n",
        "if c_has_earrings==True and d_has_earrings==True:\n",
        "  print(\"Q3.Cher and Dionne are both earing earrings? :Yes\")\n",
        "else:\n",
        "  print(\"Q3.Cher and Dionne are both earing earrings.:No\")\n",
        "if c_dress_color!=\"pink\" and d_dress_color!=\"pink\":\n",
        "  print(\"Q4.At least one person is wearing pink? :No\")\n",
        "else:\n",
        "  print(\"Q4.At least one person is wearing pink? :Yes\")\n",
        "if c_dress_color!=\"green\" and d_dress_color!=\"green\":\n",
        "  print(\"Q5.No one is wearing green? :Yes\")\n",
        "else:\n",
        "  print(\"Q5.No one is wearing green? :No\")\n",
        "if c_shoe_color==d_shoe_color:\n",
        "  print(\"Q6.Cher and Dionne have the same shoe color? :Yes\")\n",
        "else:\n",
        "  print(\"Q6.Cher and Dionne have the same shoe color? :No\")"
      ],
      "execution_count": 7,
      "outputs": [
        {
          "output_type": "stream",
          "text": [
            "Q1.At least one person is wearing purple? :Yes\n",
            "Q2.Do Cher and Dionne have different dress colors? :Yes\n",
            "Q3.Cher and Dionne are both earing earrings.:No\n",
            "Q4.At least one person is wearing pink? :Yes\n",
            "Q5.No one is wearing green? :Yes\n",
            "Q6.Cher and Dionne have the same shoe color? :Yes\n"
          ],
          "name": "stdout"
        }
      ]
    },
    {
      "cell_type": "code",
      "metadata": {
        "id": "IRhtHka0r4dQ"
      },
      "source": [
        ""
      ],
      "execution_count": null,
      "outputs": []
    }
  ]
}