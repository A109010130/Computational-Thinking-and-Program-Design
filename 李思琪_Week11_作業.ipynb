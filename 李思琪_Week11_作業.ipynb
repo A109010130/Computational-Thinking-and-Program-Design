{
  "nbformat": 4,
  "nbformat_minor": 0,
  "metadata": {
    "kernelspec": {
      "display_name": "Python 3",
      "language": "python",
      "name": "python3"
    },
    "language_info": {
      "codemirror_mode": {
        "name": "ipython",
        "version": 3
      },
      "file_extension": ".py",
      "mimetype": "text/x-python",
      "name": "python",
      "nbconvert_exporter": "python",
      "pygments_lexer": "ipython3",
      "version": "3.8.5"
    },
    "colab": {
      "name": "李思琪-Week11-作業.ipynb",
      "provenance": [],
      "collapsed_sections": [],
      "include_colab_link": true
    }
  },
  "cells": [
    {
      "cell_type": "markdown",
      "metadata": {
        "id": "view-in-github",
        "colab_type": "text"
      },
      "source": [
        "<a href=\"https://colab.research.google.com/github/A109010130/Computational-Thinking-and-Program-Design/blob/main/%E6%9D%8E%E6%80%9D%E7%90%AA_Week11_%E4%BD%9C%E6%A5%AD.ipynb\" target=\"_parent\"><img src=\"https://colab.research.google.com/assets/colab-badge.svg\" alt=\"Open In Colab\"/></a>"
      ]
    },
    {
      "cell_type": "markdown",
      "metadata": {
        "id": "ARkSluZEx0d0"
      },
      "source": [
        "# 基本程式設計(應用篇)"
      ]
    },
    {
      "cell_type": "markdown",
      "metadata": {
        "id": "VGVBzNQ3x0d2"
      },
      "source": [
        "### 4-2 運算思維四個基石"
      ]
    },
    {
      "cell_type": "markdown",
      "metadata": {
        "id": "A_6qh34gx0d3"
      },
      "source": [
        "#### 4-2-4  問題拆解 - 打造你的聊天機器人"
      ]
    },
    {
      "cell_type": "markdown",
      "metadata": {
        "id": "RkyHLq4_x0d3"
      },
      "source": [
        "「哈囉，大家好。我叫Zyxo64，是一個聊天機器人。\n",
        "\n",
        "在嗜好與興趣方面，我很喜歡美食，也喜歡養動物。\n",
        "\n",
        "很高興有機會來到世新大學，請大家多多指教。\n",
        "\n",
        "嗨！妳好，請問大名？：Francis。\n",
        "\n",
        "Francis，很高興認識你。"
      ]
    },
    {
      "cell_type": "code",
      "metadata": {
        "id": "jgwXdSq-x0d4"
      },
      "source": [
        "# 1.聊天機器人自我介紹\n",
        "\n",
        "\n",
        "# 2. 打招呼，取得對方名字\n"
      ],
      "execution_count": null,
      "outputs": []
    },
    {
      "cell_type": "code",
      "metadata": {
        "colab": {
          "base_uri": "https://localhost:8080/"
        },
        "id": "6JV7wh98yNQQ",
        "outputId": "c064252c-5fe0-4175-c74f-c8fca6069d7b"
      },
      "source": [
        "print(\"嗨嘍，今天過的好嗎?\")\n",
        "name=input(\"請問你叫甚麼名字?\")\n",
        "print(f\"嗨伊{name},很高興認識你\")"
      ],
      "execution_count": 15,
      "outputs": [
        {
          "output_type": "stream",
          "text": [
            "嗨嘍，今天過的好嗎?\n",
            "請問你叫甚麼名字?Angel\n",
            "嗨伊Angel,很高興認識你\n"
          ],
          "name": "stdout"
        }
      ]
    },
    {
      "cell_type": "markdown",
      "metadata": {
        "id": "5-i3oEvdx0d4"
      },
      "source": [
        "抱歉，請問一下今年是西元2021年，那是民國幾年呢？：*110*。\n",
        "\n",
        "對！沒錯，謝謝妳！\n",
        "\n",
        "**Francis**，猜猜看我今年幾歲？ ：**18**。\n",
        "\n",
        "哇！你好聰明，我今年的確*18*。\n",
        "\n",
        "再82年我就100歲了。\n",
        "\n",
        "那時候是西元 2103年，也就是民國192年囉！"
      ]
    },
    {
      "cell_type": "code",
      "metadata": {
        "id": "IIl531kax0d5"
      },
      "source": [
        "# 3. 數學運算\n",
        "## 3-1 從使用者取得今年年份\n",
        "\n",
        "\n",
        "## 3-2 請使用者猜年齡\n",
        "\n",
        "\n",
        "## 3-3 計算聊天機器人滿100歲的年份\n",
        "\n"
      ],
      "execution_count": null,
      "outputs": []
    },
    {
      "cell_type": "code",
      "metadata": {
        "colab": {
          "base_uri": "https://localhost:8080/"
        },
        "id": "y02O6Md60EVt",
        "outputId": "abced31a-3eeb-4885-ec2a-3659a1d36cbd"
      },
      "source": [
        "year=int(input(\"不好意思，請問今年是西元幾年呢?\"))\n",
        "print(f\"喔喔，原來是{year}年\")\n",
        "print(f\"那可以再問一下，{year}是民國幾年嗎?\")\n",
        "year1=print(f\"{year-1911}年\")\n",
        "age=input(\"猜猜我今年幾歲?\")\n",
        "print(f\"沒錯，我今年就是{age}歲\")\n",
        "year=int(year)\n",
        "age=int(age)\n",
        "print(f\"這樣的話，我再{100-age}年就100歲了\")\n",
        "time=year+(100-age)\n",
        "print(f\"那時候是西元{time}年，也就是民國{time-1911}年囉! \")"
      ],
      "execution_count": 13,
      "outputs": [
        {
          "output_type": "stream",
          "text": [
            "不好意思，請問今年是西元幾年呢?2001\n",
            "喔喔，原來是2001年\n",
            "那可以再問一下，2001是民國幾年嗎?\n",
            "90年\n",
            "猜猜我今年幾歲?20\n",
            "沒錯，我今年就是20歲\n",
            "這樣的話，我再80年就100歲了\n",
            "那時候是西元2081年，也就是民國170年囉! \n"
          ],
          "name": "stdout"
        }
      ]
    },
    {
      "cell_type": "markdown",
      "metadata": {
        "id": "jnPyapBJx0d5"
      },
      "source": [
        "\\我喜歡吃巧克力，也喜歡嘗試各種新食物。\n",
        "\n",
        "你呢？你最喜歡的食物是什麼？**:披薩**。\n",
        "\n",
        "我也喜歡 *披薩*。\n",
        "\n",
        "你多久吃一次 *披薩*？**：每天**。\n",
        "\n",
        "真有趣。不知道這樣對健康好不好。"
      ]
    },
    {
      "cell_type": "code",
      "metadata": {
        "id": "M2w-HhSGx0d5"
      },
      "source": [
        "# 4 興趣\n",
        "## 4-1 食物話題\n"
      ],
      "execution_count": null,
      "outputs": []
    },
    {
      "cell_type": "code",
      "metadata": {
        "colab": {
          "base_uri": "https://localhost:8080/"
        },
        "id": "WmDn7Dxz7e_2",
        "outputId": "502ae910-d590-4ab4-9f67-99e3b6ac423f"
      },
      "source": [
        "print(\"我喜歡吃巧克力，也喜歡嘗試各種新食物。\")\n",
        "favorite_food=input(\"你呢？你最喜歡的食物是什麼？\")\n",
        "print(f\"我也喜歡{favorite_food}\")\n",
        "how_often=input(f\"你多久吃一次{favorite_food}？\")\n",
        "print(\"真有趣。不知道這樣對健康好不好。\")\n",
        "animal = input(\"我最喜歡的動物是貓咪，你呢?:\")\n",
        "print(f\"我不喜歡{animal}!\")\n",
        "print(f\"不知道{animal}喜不喜歡吃{favorite_food}?\")"
      ],
      "execution_count": 32,
      "outputs": [
        {
          "output_type": "stream",
          "text": [
            "我喜歡吃巧克力，也喜歡嘗試各種新食物。\n",
            "你呢？你最喜歡的食物是什麼？披薩\n",
            "我也喜歡披薩\n",
            "你多久吃一次披薩？一周一次\n",
            "真有趣。不知道這樣對健康好不好。\n",
            "我最喜歡的動物是貓咪，你呢?:穿山甲\n",
            "我不喜歡穿山甲!\n",
            "不知道穿山甲喜不喜歡吃披薩?\n"
          ],
          "name": "stdout"
        }
      ]
    },
    {
      "cell_type": "markdown",
      "metadata": {
        "id": "EiTNIhYJx0d6"
      },
      "source": [
        "我最喜歡的動物是長頸鹿。你呢？ **：烏龜**。\n",
        "\n",
        "我不喜歡*烏龜*！\n",
        "\n",
        "不知道 *烏龜* 喜不喜歡吃 *披薩*？"
      ]
    },
    {
      "cell_type": "code",
      "metadata": {
        "id": "mquYeg6vx0d6"
      },
      "source": [
        "# 4 興趣\n",
        "## 4-2 動物話題\n"
      ],
      "execution_count": 16,
      "outputs": []
    },
    {
      "cell_type": "markdown",
      "metadata": {
        "id": "-fUqzfv9x0d6"
      },
      "source": [
        "你今天的心情如何？ **：很開心**。\n",
        "\n",
        "可以告訴我你 *開心* 的原因嗎？**因為週末了！** \n",
        "\n",
        "祝你週末愉快！\n",
        "\n",
        "我喜歡跟你聊天，現在有點累了，改天再聊吧！！\n",
        "\n",
        "再見 *Francis*！"
      ]
    },
    {
      "cell_type": "code",
      "metadata": {
        "colab": {
          "base_uri": "https://localhost:8080/"
        },
        "id": "r95uLodsx0d7",
        "outputId": "2b1c27f0-709c-4ca4-9fce-0a64020276ee"
      },
      "source": [
        "# 5. 關於心情的對話\n",
        "name=input(\"你的名字?\")\n",
        "mood=input(\"你今天的心情如何？\") \n",
        "print(f\"可以告訴我你{mood}的原因嗎？因為週末了！\")\n",
        "print(\"祝你週末愉快！\")\n",
        "print(\"我喜歡跟你聊天，現在有點累了，改天再聊吧！！\")\n",
        "print(f\"再見!{name}！\")\n"
      ],
      "execution_count": 22,
      "outputs": [
        {
          "output_type": "stream",
          "text": [
            "你的名字?angel\n",
            "你今天的心情如何？開心\n",
            "可以告訴我你開心的原因嗎？因為週末了！\n",
            "祝你週末愉快！\n",
            "我喜歡跟你聊天，現在有點累了，改天再聊吧！！\n",
            "再見!angel！\n"
          ],
          "name": "stdout"
        }
      ]
    },
    {
      "cell_type": "markdown",
      "metadata": {
        "id": "9umTiMo7x0d7"
      },
      "source": [
        "我喜歡跟你聊天，現在有點累了，改天再聊吧！！\n",
        "\n",
        "再見 *Francis*！"
      ]
    },
    {
      "cell_type": "code",
      "metadata": {
        "id": "RdIFrdEOx0d7"
      },
      "source": [
        "# 6. 道別\n"
      ],
      "execution_count": null,
      "outputs": []
    },
    {
      "cell_type": "markdown",
      "metadata": {
        "id": "UscmtNkex0d8"
      },
      "source": [
        "## 期末報告"
      ]
    },
    {
      "cell_type": "markdown",
      "metadata": {
        "id": "LYRPNzVBx0d8"
      },
      "source": [
        "### 組長(學號姓名):\n",
        "\n"
      ]
    },
    {
      "cell_type": "markdown",
      "metadata": {
        "id": "07TrDNjfx0d8"
      },
      "source": [
        "### 組員(學號姓名):\n",
        "\n"
      ]
    },
    {
      "cell_type": "markdown",
      "metadata": {
        "id": "wTGThYtNx0d8"
      },
      "source": [
        "### 題目:"
      ]
    },
    {
      "cell_type": "markdown",
      "metadata": {
        "id": "akkiSquEx0d9"
      },
      "source": [
        "### 百字腳本\n",
        "\n"
      ]
    }
  ]
}