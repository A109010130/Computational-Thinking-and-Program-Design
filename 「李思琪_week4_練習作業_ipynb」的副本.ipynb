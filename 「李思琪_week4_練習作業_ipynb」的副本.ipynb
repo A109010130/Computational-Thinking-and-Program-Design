{
  "nbformat": 4,
  "nbformat_minor": 0,
  "metadata": {
    "colab": {
      "name": "「李思琪-week4-練習作業.ipynb」的副本",
      "provenance": [],
      "authorship_tag": "ABX9TyPoTrBpZ56i8zGBJJhyklec",
      "include_colab_link": true
    },
    "kernelspec": {
      "name": "python3",
      "display_name": "Python 3"
    }
  },
  "cells": [
    {
      "cell_type": "markdown",
      "metadata": {
        "id": "view-in-github",
        "colab_type": "text"
      },
      "source": [
        "<a href=\"https://colab.research.google.com/github/A109010130/Computational-Thinking-and-Program-Design/blob/main/%E3%80%8C%E6%9D%8E%E6%80%9D%E7%90%AA_week4_%E7%B7%B4%E7%BF%92%E4%BD%9C%E6%A5%AD_ipynb%E3%80%8D%E7%9A%84%E5%89%AF%E6%9C%AC.ipynb\" target=\"_parent\"><img src=\"https://colab.research.google.com/assets/colab-badge.svg\" alt=\"Open In Colab\"/></a>"
      ]
    },
    {
      "cell_type": "markdown",
      "metadata": {
        "id": "xC2Bonj9XOEC"
      },
      "source": [
        ""
      ]
    },
    {
      "cell_type": "markdown",
      "metadata": {
        "id": "Nl0lW5m0XPT6"
      },
      "source": [
        "#隨堂練習\r\n",
        "\r\n",
        "\r\n",
        "\r\n"
      ]
    },
    {
      "cell_type": "code",
      "metadata": {
        "id": "MkSNV48jYKyw",
        "colab": {
          "base_uri": "https://localhost:8080/"
        },
        "outputId": "595f1773-b279-4b8e-b44b-ff03c559dfe0"
      },
      "source": [
        "123"
      ],
      "execution_count": 1,
      "outputs": [
        {
          "output_type": "execute_result",
          "data": {
            "text/plain": [
              "123"
            ]
          },
          "metadata": {
            "tags": []
          },
          "execution_count": 1
        }
      ]
    },
    {
      "cell_type": "markdown",
      "metadata": {
        "id": "ehDhYxDSYBtN"
      },
      "source": [
        "#課後練習"
      ]
    },
    {
      "cell_type": "markdown",
      "metadata": {
        "id": "9_DP8696YLVf"
      },
      "source": [
        "現在是個資訊的時代，人手一支手機，觀看新聞的方式也從一家老小擠在電視機前，轉變成能各自用手機觀看自己喜歡的頻道。電子報就是一種新聞的形式，現在大多數媒體都有自己架設的網站，方便閱聽眾使用，而架設網站就是與程式設計有關。除了架設網站以外，新聞界常ㄒ要依些數據來佐證報導，數據的收集、網路爬蟲，或關鍵字搜尋也與新聞習習相關。[連結文字](https://my-best.tw/115094)\r\n"
      ]
    }
  ]
}